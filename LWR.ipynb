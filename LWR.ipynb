{
 "cells": [
  {
   "cell_type": "code",
   "execution_count": 34,
   "id": "afa29b1f",
   "metadata": {},
   "outputs": [
    {
     "name": "stdout",
     "output_type": "stream",
     "text": [
      "[3.385e+00 4.800e-01 1.350e+00 5.000e+00 6.330e+00 7.660e+00 4.830e+00\n",
      " 1.040e+00 4.190e+00 4.250e-01 1.010e-01 3.920e+00 1.000e+00 5.000e-03\n",
      " 6.000e-02 3.500e+00 2.000e+00 1.700e+00 2.000e+00 2.300e-02 5.100e+00\n",
      " 5.000e+00 7.850e-01 1.000e+00 3.300e+00 2.000e-01 1.410e+00 6.000e+00\n",
      " 7.000e+00 8.000e+00 7.500e-01 6.000e+00 6.000e+00 3.500e+00 6.800e+00\n",
      " 5.000e+00 4.050e+00 1.200e-01 2.300e-02 1.000e-02 1.400e+00 2.566e+00\n",
      " 2.500e+00 5.500e+00 4.000e+00 2.160e+00 4.550e+00 1.550e+00 7.000e+00\n",
      " 3.600e+00 4.288e+00 2.800e-01 7.500e-01 1.220e-01 4.800e-01 3.000e+00\n",
      " 3.000e+00 5.788e+00 9.000e-01 1.620e+00 1.040e-01 4.235e+00 2.300e+00\n",
      " 1.300e+00 5.000e-01 2.000e-01 4.200e+00 2.440e+00 1.980e+00 9.800e-01\n",
      " 2.000e-01 3.440e+00 4.500e+00 3.560e+00 3.000e+00 2.883e+00 4.330e+00\n",
      " 4.500e+00 1.200e+00 1.000e+00]\n",
      "80\n",
      "[[1 1 1 1 1 1 1 1 1 1 1 1 1 1 1 1 1 1 1 1 1 1 1 1 1 1 1 1 1 1 1 1 1 1 1 1\n",
      "  1 1 1 1 1 1 1 1 1 1 1 1 1 1 1 1 1 1 1 1 1 1 1 1 1 1 1 1 1 1 1 1 1 1 1 1\n",
      "  1 1 1 1 1 1 1 1]]\n",
      "(80, 2)\n",
      "M  =  80\n"
     ]
    },
    {
     "data": {
      "image/png": "[encoded data removed]",
      "text/plain": [
       "<Figure size 432x288 with 1 Axes>"
      ]
     },
     "metadata": {
      "needs_background": "light"
     },
     "output_type": "display_data"
    }
   ],
   "source": [
    "import numpy as np\n",
    "import pandas as pd\n",
    "import matplotlib.pyplot as plt\n",
    "\n",
    "def localWeightRegression(xmat, ymat, k):\n",
    "    m, n = np.shape(xmat)\n",
    "    print(\"M  = \", m)\n",
    "    ypred = np.zeros(m)\n",
    "    for i in range(m):\n",
    "        ypred[i] = xmat[i]*localWeight(xmat[i], xmat, ymat, k)\n",
    "    return ypred\n",
    "\n",
    "def localWeight(point, xmat, ymat, k):\n",
    "    wei = kernal(point, xmat, k)\n",
    "    W = (X.T*(wei*X)).I*(X.T*(wei*ymat.T))\n",
    "\n",
    "    return W\n",
    "\n",
    "def kernal(point, xmat, k):\n",
    "    m, n = np.shape(xmat)\n",
    "    weights = np.mat(np.eye(m))\n",
    "    for j in range(m):\n",
    "        diff = point - X[j]\n",
    "        weights[j, j] = np.exp(diff*diff.T/(-2*k**2))\n",
    "    return weights\n",
    "\n",
    "data = pd.read_csv('LR.csv')\n",
    "colA = np.array(data.colA)\n",
    "colB = np.array(data.colB)\n",
    "print(colA)\n",
    "mcolA = np.mat(colA)\n",
    "mcolB = np.mat(colB)\n",
    "\n",
    "m = np.shape(mcolA)[1]\n",
    "print(m)\n",
    "one = np.ones((1, m), dtype = int)\n",
    "print(one)\n",
    "X = np.hstack((one.T, mcolA.T))\n",
    "print(X.shape)\n",
    "\n",
    "ypred = localWeightRegression(X, mcolB, 0.5)\n",
    "SortIndex = X[:, 1].argsort(0)\n",
    "#print(SortIndex)\n",
    "xsort = X[SortIndex][:, 0]\n",
    "# print(xsort)\n",
    "fig = plt.figure()\n",
    "ax = fig.add_subplot(1, 1, 1)\n",
    "ax.scatter(colA, colB, color = 'green')\n",
    "ax.plot(xsort[:, 1], ypred[SortIndex], color = 'red', linewidth =5)\n",
    "\n",
    "plt.xlabel('Col A')\n",
    "plt.ylabel('Col B')\n",
    "plt.show()\n"
   ]
  },
  {
   "cell_type": "code",
   "execution_count": null,
   "id": "294fe7a6",
   "metadata": {},
   "outputs": [],
   "source": []
  }
 ],
 "metadata": {
  "kernelspec": {
   "display_name": "Python 3 (ipykernel)",
   "language": "python",
   "name": "python3"
  },
  "language_info": {
   "codemirror_mode": {
    "name": "ipython",
    "version": 3
   },
   "file_extension": ".py",
   "mimetype": "text/x-python",
   "name": "python",
   "nbconvert_exporter": "python",
   "pygments_lexer": "ipython3",
   "version": "3.9.7"
  }
 },
 "nbformat": 4,
 "nbformat_minor": 5
}
